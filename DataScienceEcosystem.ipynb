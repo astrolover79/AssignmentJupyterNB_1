{
  "metadata": {
    "kernelspec": {
      "name": "python",
      "display_name": "Python (Pyodide)",
      "language": "python"
    },
    "language_info": {
      "codemirror_mode": {
        "name": "python",
        "version": 3
      },
      "file_extension": ".py",
      "mimetype": "text/x-python",
      "name": "python",
      "nbconvert_exporter": "python",
      "pygments_lexer": "ipython3",
      "version": "3.8"
    }
  },
  "nbformat_minor": 4,
  "nbformat": 4,
  "cells": [
    {
      "cell_type": "markdown",
      "source": "<h1>Data Science Tools and Ecosystem</h1>",
      "metadata": {}
    },
    {
      "cell_type": "markdown",
      "source": "In this notebook, Data Science Tools and Ecosystem are summarized.\n",
      "metadata": {}
    },
    {
      "cell_type": "markdown",
      "source": "Some of the popular languages that Data Scientists use are:\n1. Python\n2. Julia\n3. R\n4. Scala",
      "metadata": {}
    },
    {
      "cell_type": "markdown",
      "source": "Some of the commonly used libraries used by Data Scientists include:\n1. Pandas\n2. Seaborn\n3. TensorFlow\n4. SciPya",
      "metadata": {}
    },
    {
      "cell_type": "markdown",
      "source": "Data Science Tools\n1. Jupyter Notebook\n2. Apache Spark\n3. R Studio",
      "metadata": {}
    },
    {
      "cell_type": "markdown",
      "source": "Below are a few examples of evaluating arithmetic expressions in Python: ",
      "metadata": {}
    },
    {
      "cell_type": "code",
      "source": "#This a simple arithmetic expression to mutiply then add integers\n(3*4)+5",
      "metadata": {
        "trusted": true
      },
      "outputs": [
        {
          "execution_count": 3,
          "output_type": "execute_result",
          "data": {
            "text/plain": "17"
          },
          "metadata": {}
        }
      ],
      "execution_count": 3
    },
    {
      "cell_type": "markdown",
      "source": "This will convert 200 minutes to hours by diving by 60.",
      "metadata": {}
    },
    {
      "cell_type": "code",
      "source": "#This is a simple arithmetic expression to convert 200 minutes to hours\nmins= 200\nminstohrs= mins/60\nprint(minstohrs)",
      "metadata": {
        "trusted": true
      },
      "outputs": [
        {
          "name": "stdout",
          "text": "3.3333333333333335\n",
          "output_type": "stream"
        }
      ],
      "execution_count": 4
    },
    {
      "cell_type": "markdown",
      "source": "<b>Objectives</b>\n<br></br>\nList of Data Science Languages used worldwide.\n- Python\n- Julia\n- R\n- Scala\n\nList of Data Science frameworks used:\n- R Studio\n- Apache Hadoop (used for distributed storage and data processing)\n- Jupyter Notebooks\n\nMost important thing to learn: GitHub",
      "metadata": {}
    },
    {
      "cell_type": "markdown",
      "source": "<h2>Author</h2>\nEesha Inamdar",
      "metadata": {}
    },
    {
      "cell_type": "code",
      "source": "",
      "metadata": {
        "trusted": true
      },
      "outputs": [],
      "execution_count": null
    }
  ]
}